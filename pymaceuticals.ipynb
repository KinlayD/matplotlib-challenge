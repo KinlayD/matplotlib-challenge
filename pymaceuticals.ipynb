{
 "cells": [
  {
   "cell_type": "code",
   "execution_count": 1,
   "metadata": {},
   "outputs": [],
   "source": [
    "# Dependencies and Setup\n",
    "import matplotlib.pyplot as plt\n",
    "import pandas as pd\n",
    "import scipy.stats as st\n",
    "import numpy as np\n",
    "\n",
    "# file path\n",
    "mouse_metadata_path = \"resources/Mouse_metadata.csv\"\n",
    "study_results_path = \"resources/Study_results.csv\"\n",
    "\n",
    "# create dataframes\n",
    "mouse_metadata = pd.read_csv(mouse_metadata_path)\n",
    "study_results = pd.read_csv(study_results_path)\n"
   ]
  },
  {
   "cell_type": "code",
   "execution_count": 2,
   "metadata": {},
   "outputs": [
    {
     "data": {
      "text/html": [
       "<div>\n",
       "<style scoped>\n",
       "    .dataframe tbody tr th:only-of-type {\n",
       "        vertical-align: middle;\n",
       "    }\n",
       "\n",
       "    .dataframe tbody tr th {\n",
       "        vertical-align: top;\n",
       "    }\n",
       "\n",
       "    .dataframe thead th {\n",
       "        text-align: right;\n",
       "    }\n",
       "</style>\n",
       "<table border=\"1\" class=\"dataframe\">\n",
       "  <thead>\n",
       "    <tr style=\"text-align: right;\">\n",
       "      <th></th>\n",
       "      <th>Mouse ID</th>\n",
       "      <th>Drug Regimen</th>\n",
       "      <th>Sex</th>\n",
       "      <th>Age_months</th>\n",
       "      <th>Weight (g)</th>\n",
       "      <th>Timepoint</th>\n",
       "      <th>Tumor Volume (mm3)</th>\n",
       "      <th>Metastatic Sites</th>\n",
       "    </tr>\n",
       "  </thead>\n",
       "  <tbody>\n",
       "    <tr>\n",
       "      <th>0</th>\n",
       "      <td>k403</td>\n",
       "      <td>Ramicane</td>\n",
       "      <td>Male</td>\n",
       "      <td>21</td>\n",
       "      <td>16</td>\n",
       "      <td>0</td>\n",
       "      <td>45.000000</td>\n",
       "      <td>0</td>\n",
       "    </tr>\n",
       "    <tr>\n",
       "      <th>1</th>\n",
       "      <td>k403</td>\n",
       "      <td>Ramicane</td>\n",
       "      <td>Male</td>\n",
       "      <td>21</td>\n",
       "      <td>16</td>\n",
       "      <td>5</td>\n",
       "      <td>38.825898</td>\n",
       "      <td>0</td>\n",
       "    </tr>\n",
       "    <tr>\n",
       "      <th>2</th>\n",
       "      <td>k403</td>\n",
       "      <td>Ramicane</td>\n",
       "      <td>Male</td>\n",
       "      <td>21</td>\n",
       "      <td>16</td>\n",
       "      <td>10</td>\n",
       "      <td>35.014271</td>\n",
       "      <td>1</td>\n",
       "    </tr>\n",
       "    <tr>\n",
       "      <th>3</th>\n",
       "      <td>k403</td>\n",
       "      <td>Ramicane</td>\n",
       "      <td>Male</td>\n",
       "      <td>21</td>\n",
       "      <td>16</td>\n",
       "      <td>15</td>\n",
       "      <td>34.223992</td>\n",
       "      <td>1</td>\n",
       "    </tr>\n",
       "    <tr>\n",
       "      <th>4</th>\n",
       "      <td>k403</td>\n",
       "      <td>Ramicane</td>\n",
       "      <td>Male</td>\n",
       "      <td>21</td>\n",
       "      <td>16</td>\n",
       "      <td>20</td>\n",
       "      <td>32.997729</td>\n",
       "      <td>1</td>\n",
       "    </tr>\n",
       "    <tr>\n",
       "      <th>...</th>\n",
       "      <td>...</td>\n",
       "      <td>...</td>\n",
       "      <td>...</td>\n",
       "      <td>...</td>\n",
       "      <td>...</td>\n",
       "      <td>...</td>\n",
       "      <td>...</td>\n",
       "      <td>...</td>\n",
       "    </tr>\n",
       "    <tr>\n",
       "      <th>1887</th>\n",
       "      <td>z969</td>\n",
       "      <td>Naftisol</td>\n",
       "      <td>Male</td>\n",
       "      <td>9</td>\n",
       "      <td>30</td>\n",
       "      <td>25</td>\n",
       "      <td>63.145652</td>\n",
       "      <td>2</td>\n",
       "    </tr>\n",
       "    <tr>\n",
       "      <th>1888</th>\n",
       "      <td>z969</td>\n",
       "      <td>Naftisol</td>\n",
       "      <td>Male</td>\n",
       "      <td>9</td>\n",
       "      <td>30</td>\n",
       "      <td>30</td>\n",
       "      <td>65.841013</td>\n",
       "      <td>3</td>\n",
       "    </tr>\n",
       "    <tr>\n",
       "      <th>1889</th>\n",
       "      <td>z969</td>\n",
       "      <td>Naftisol</td>\n",
       "      <td>Male</td>\n",
       "      <td>9</td>\n",
       "      <td>30</td>\n",
       "      <td>35</td>\n",
       "      <td>69.176246</td>\n",
       "      <td>4</td>\n",
       "    </tr>\n",
       "    <tr>\n",
       "      <th>1890</th>\n",
       "      <td>z969</td>\n",
       "      <td>Naftisol</td>\n",
       "      <td>Male</td>\n",
       "      <td>9</td>\n",
       "      <td>30</td>\n",
       "      <td>40</td>\n",
       "      <td>70.314904</td>\n",
       "      <td>4</td>\n",
       "    </tr>\n",
       "    <tr>\n",
       "      <th>1891</th>\n",
       "      <td>z969</td>\n",
       "      <td>Naftisol</td>\n",
       "      <td>Male</td>\n",
       "      <td>9</td>\n",
       "      <td>30</td>\n",
       "      <td>45</td>\n",
       "      <td>73.867845</td>\n",
       "      <td>4</td>\n",
       "    </tr>\n",
       "  </tbody>\n",
       "</table>\n",
       "<p>1892 rows × 8 columns</p>\n",
       "</div>"
      ],
      "text/plain": [
       "     Mouse ID Drug Regimen   Sex  Age_months  Weight (g)  Timepoint  \\\n",
       "0        k403     Ramicane  Male          21          16          0   \n",
       "1        k403     Ramicane  Male          21          16          5   \n",
       "2        k403     Ramicane  Male          21          16         10   \n",
       "3        k403     Ramicane  Male          21          16         15   \n",
       "4        k403     Ramicane  Male          21          16         20   \n",
       "...       ...          ...   ...         ...         ...        ...   \n",
       "1887     z969     Naftisol  Male           9          30         25   \n",
       "1888     z969     Naftisol  Male           9          30         30   \n",
       "1889     z969     Naftisol  Male           9          30         35   \n",
       "1890     z969     Naftisol  Male           9          30         40   \n",
       "1891     z969     Naftisol  Male           9          30         45   \n",
       "\n",
       "      Tumor Volume (mm3)  Metastatic Sites  \n",
       "0              45.000000                 0  \n",
       "1              38.825898                 0  \n",
       "2              35.014271                 1  \n",
       "3              34.223992                 1  \n",
       "4              32.997729                 1  \n",
       "...                  ...               ...  \n",
       "1887           63.145652                 2  \n",
       "1888           65.841013                 3  \n",
       "1889           69.176246                 4  \n",
       "1890           70.314904                 4  \n",
       "1891           73.867845                 4  \n",
       "\n",
       "[1892 rows x 8 columns]"
      ]
     },
     "execution_count": 2,
     "metadata": {},
     "output_type": "execute_result"
    }
   ],
   "source": [
    "# drop duplicates and store as clean df\n",
    "mouse_df = pd.merge(mouse_metadata, study_results, on=\"Mouse ID\", how=\"outer\")\n",
    "mouse_df.drop_duplicates(subset=[\"Mouse ID\", \"Timepoint\", \"Tumor Volume (mm3)\", \"Metastatic Sites\"], inplace=True, ignore_index=True)\n",
    "mouse_df"
   ]
  },
  {
   "cell_type": "code",
   "execution_count": 3,
   "metadata": {},
   "outputs": [
    {
     "name": "stdout",
     "output_type": "stream",
     "text": [
      "g989    12\n",
      "k403    10\n",
      "j365    10\n",
      "j984    10\n",
      "k210    10\n",
      "        ..\n",
      "v199     1\n",
      "t573     1\n",
      "f932     1\n",
      "b447     1\n",
      "u153     1\n",
      "Name: Mouse ID, Length: 249, dtype: int64\n",
      "1892\n"
     ]
    }
   ],
   "source": [
    "# check counts from clean df\n",
    "print(mouse_df[\"Mouse ID\"].value_counts())\n",
    "print(len(mouse_df[\"Mouse ID\"]))"
   ]
  },
  {
   "cell_type": "code",
   "execution_count": 4,
   "metadata": {},
   "outputs": [
    {
     "data": {
      "text/plain": [
       "<AxesSubplot:title={'center':'Number of Mice treated by Drug Regimen'}, xlabel='Time Interval (5 days)', ylabel='Total Number of Mice'>"
      ]
     },
     "execution_count": 4,
     "metadata": {},
     "output_type": "execute_result"
    },
    {
     "data": {
      "image/png": "[encoded data removed]",
      "text/plain": [
       "<Figure size 1440x720 with 1 Axes>"
      ]
     },
     "metadata": {
      "needs_background": "light"
     },
     "output_type": "display_data"
    }
   ],
   "source": [
    "g_t_r = mouse_df[[\"Mouse ID\", \"Timepoint\", \"Drug Regimen\"]]\n",
    "g_t_r_grp = g_t_r.groupby([\"Timepoint\", \"Drug Regimen\"])[\"Timepoint\"].count().unstack(\"Drug Regimen\")\n",
    "y_ticks = np.arange(0, 280, 20.0)\n",
    "g_t_r_grp.plot(kind='bar', stacked=True, figsize=(20,10), title=\"Number of Mice treated by Drug Regimen\", xlabel=\"Time Interval (5 days)\", ylabel=\"Total Number of Mice\", yticks=y_ticks)"
   ]
  },
  {
   "cell_type": "code",
   "execution_count": 5,
   "metadata": {},
   "outputs": [
    {
     "data": {
      "text/html": [
       "<div>\n",
       "<style scoped>\n",
       "    .dataframe tbody tr th:only-of-type {\n",
       "        vertical-align: middle;\n",
       "    }\n",
       "\n",
       "    .dataframe tbody tr th {\n",
       "        vertical-align: top;\n",
       "    }\n",
       "\n",
       "    .dataframe thead th {\n",
       "        text-align: right;\n",
       "    }\n",
       "</style>\n",
       "<table border=\"1\" class=\"dataframe\">\n",
       "  <thead>\n",
       "    <tr style=\"text-align: right;\">\n",
       "      <th></th>\n",
       "      <th>Mouse ID</th>\n",
       "    </tr>\n",
       "    <tr>\n",
       "      <th>Sex</th>\n",
       "      <th></th>\n",
       "    </tr>\n",
       "  </thead>\n",
       "  <tbody>\n",
       "    <tr>\n",
       "      <th>Female</th>\n",
       "      <td>124</td>\n",
       "    </tr>\n",
       "    <tr>\n",
       "      <th>Male</th>\n",
       "      <td>125</td>\n",
       "    </tr>\n",
       "  </tbody>\n",
       "</table>\n",
       "</div>"
      ],
      "text/plain": [
       "        Mouse ID\n",
       "Sex             \n",
       "Female       124\n",
       "Male         125"
      ]
     },
     "execution_count": 5,
     "metadata": {},
     "output_type": "execute_result"
    }
   ],
   "source": [
    "# generate pie plot for distribution by sex of ID using DataFrame.plot\n",
    "df_copy2 = mouse_df.copy()\n",
    "df_copy2.drop_duplicates(subset=[\"Mouse ID\", \"Sex\"], inplace=True, ignore_index=True)\n",
    "groupby_sex = df_copy2[[\"Mouse ID\", \"Sex\"]].groupby(\"Sex\")\n",
    "sex_count_series = groupby_sex[\"Mouse ID\"].count()\n",
    "ID_sex_df = pd.DataFrame(sex_count_series)\n",
    "ID_sex_df\n"
   ]
  },
  {
   "cell_type": "code",
   "execution_count": 6,
   "metadata": {},
   "outputs": [
    {
     "data": {
      "text/plain": [
       "<AxesSubplot:ylabel='Mouse ID'>"
      ]
     },
     "execution_count": 6,
     "metadata": {},
     "output_type": "execute_result"
    },
    {
     "data": {
      "image/png": "[encoded data removed]",
      "text/plain": [
       "<Figure size 432x288 with 1 Axes>"
      ]
     },
     "metadata": {},
     "output_type": "display_data"
    }
   ],
   "source": [
    "ID_sex_df.plot(kind=\"pie\", y=\"Mouse ID\")"
   ]
  },
  {
   "cell_type": "code",
   "execution_count": 15,
   "metadata": {},
   "outputs": [
    {
     "data": {
      "text/html": [
       "<div>\n",
       "<style scoped>\n",
       "    .dataframe tbody tr th:only-of-type {\n",
       "        vertical-align: middle;\n",
       "    }\n",
       "\n",
       "    .dataframe tbody tr th {\n",
       "        vertical-align: top;\n",
       "    }\n",
       "\n",
       "    .dataframe thead th {\n",
       "        text-align: right;\n",
       "    }\n",
       "</style>\n",
       "<table border=\"1\" class=\"dataframe\">\n",
       "  <thead>\n",
       "    <tr style=\"text-align: right;\">\n",
       "      <th></th>\n",
       "      <th></th>\n",
       "      <th>Tumor Volume (mm3)</th>\n",
       "    </tr>\n",
       "    <tr>\n",
       "      <th>Drug Regimen</th>\n",
       "      <th>Mouse ID</th>\n",
       "      <th></th>\n",
       "    </tr>\n",
       "  </thead>\n",
       "  <tbody>\n",
       "    <tr>\n",
       "      <th rowspan=\"5\" valign=\"top\">Capomulin</th>\n",
       "      <th>b128</th>\n",
       "      <td>419.636356</td>\n",
       "    </tr>\n",
       "    <tr>\n",
       "      <th>b742</th>\n",
       "      <td>400.836993</td>\n",
       "    </tr>\n",
       "    <tr>\n",
       "      <th>f966</th>\n",
       "      <td>182.529864</td>\n",
       "    </tr>\n",
       "    <tr>\n",
       "      <th>g288</th>\n",
       "      <td>419.900966</td>\n",
       "    </tr>\n",
       "    <tr>\n",
       "      <th>g316</th>\n",
       "      <td>446.133439</td>\n",
       "    </tr>\n",
       "    <tr>\n",
       "      <th>...</th>\n",
       "      <th>...</th>\n",
       "      <td>...</td>\n",
       "    </tr>\n",
       "    <tr>\n",
       "      <th rowspan=\"5\" valign=\"top\">Ramicane</th>\n",
       "      <th>s508</th>\n",
       "      <td>360.501562</td>\n",
       "    </tr>\n",
       "    <tr>\n",
       "      <th>u196</th>\n",
       "      <td>455.763948</td>\n",
       "    </tr>\n",
       "    <tr>\n",
       "      <th>w678</th>\n",
       "      <td>88.166373</td>\n",
       "    </tr>\n",
       "    <tr>\n",
       "      <th>y449</th>\n",
       "      <td>181.439088</td>\n",
       "    </tr>\n",
       "    <tr>\n",
       "      <th>z578</th>\n",
       "      <td>384.115100</td>\n",
       "    </tr>\n",
       "  </tbody>\n",
       "</table>\n",
       "<p>100 rows × 1 columns</p>\n",
       "</div>"
      ],
      "text/plain": [
       "                       Tumor Volume (mm3)\n",
       "Drug Regimen Mouse ID                    \n",
       "Capomulin    b128              419.636356\n",
       "             b742              400.836993\n",
       "             f966              182.529864\n",
       "             g288              419.900966\n",
       "             g316              446.133439\n",
       "...                                   ...\n",
       "Ramicane     s508              360.501562\n",
       "             u196              455.763948\n",
       "             w678               88.166373\n",
       "             y449              181.439088\n",
       "             z578              384.115100\n",
       "\n",
       "[100 rows x 1 columns]"
      ]
     },
     "execution_count": 15,
     "metadata": {},
     "output_type": "execute_result"
    }
   ],
   "source": [
    "# calculate final tumor volume of each mouse across four of the most promising treatment regimens: Capomulin, Ramicane, Infubinol, and Ceftamin\n",
    "promsing_treatments_df = mouse_df.loc[(mouse_df[\"Drug Regimen\"] == \"Capomulin\") | (mouse_df[\"Drug Regimen\"] == \"Ramicane\") | (mouse_df[\"Drug Regimen\"] == \"Infubinol\") | (mouse_df[\"Drug Regimen\"] == \"Ceftamin\"), [\"Drug Regimen\", \"Mouse ID\", \"Tumor Volume (mm3)\"]]\n",
    "group_treatment = promsing_treatments_df.groupby([\"Drug Regimen\", \"Mouse ID\"])\n",
    "tumor_vol = group_treatment[\"Tumor Volume (mm3)\"].sum()\n",
    "tumor_vol_df = pd.DataFrame(tumor_vol)\n",
    "tumor_vol_df"
   ]
  },
  {
   "cell_type": "code",
   "execution_count": 10,
   "metadata": {},
   "outputs": [
    {
     "name": "stdout",
     "output_type": "stream",
     "text": [
      "lower quartile: 340.0010610275\n",
      "middle quartile: 394.845840265\n",
      "upper quartile: 449.984559655\n",
      "iqr: 109.98349862750001\n",
      "lower bound: 175.02581308624997\n",
      "upper bound: 614.95980759625\n",
      "largest tumor vol: 587.4094294700001\n",
      "smallest tumor vol: 45.0\n"
     ]
    }
   ],
   "source": [
    "# Calculate the quartiles and IQR and quantitatively determine if there are any potential outliers across all four treatment regimens.\n",
    "quartiles = tumor_vol_df[\"Tumor Volume (mm3)\"].quantile([.25,.5,.75])\n",
    "lowerq = quartiles[0.25]\n",
    "upperq = quartiles[0.75]\n",
    "middleq = quartiles[0.50]\n",
    "\n",
    "# IQR\n",
    "iqr = upperq-lowerq\n",
    "\n",
    "# bounds\n",
    "lower_bound = lowerq - (1.5 * iqr)\n",
    "upper_bound = upperq + (1.5 * iqr)\n",
    "\n",
    "print(f'lower quartile: {lowerq}')\n",
    "print(f'middle quartile: {middleq}')\n",
    "print(f'upper quartile: {upperq}')\n",
    "print(f'iqr: {iqr}')\n",
    "print(f'lower bound: {lower_bound}')\n",
    "print(f'upper bound: {upper_bound}')\n",
    "promsing_treatments_df\n",
    "\n",
    "print(f'largest tumor vol: {tumor_vol_df[\"Tumor Volume (mm3)\"].max()}')\n",
    "print(f'smallest tumor vol: {tumor_vol_df[\"Tumor Volume (mm3)\"].min()}')"
   ]
  },
  {
   "cell_type": "code",
   "execution_count": 11,
   "metadata": {},
   "outputs": [
    {
     "data": {
      "text/html": [
       "<div>\n",
       "<style scoped>\n",
       "    .dataframe tbody tr th:only-of-type {\n",
       "        vertical-align: middle;\n",
       "    }\n",
       "\n",
       "    .dataframe tbody tr th {\n",
       "        vertical-align: top;\n",
       "    }\n",
       "\n",
       "    .dataframe thead th {\n",
       "        text-align: right;\n",
       "    }\n",
       "</style>\n",
       "<table border=\"1\" class=\"dataframe\">\n",
       "  <thead>\n",
       "    <tr style=\"text-align: right;\">\n",
       "      <th></th>\n",
       "      <th>Drug Regimen</th>\n",
       "      <th>Tumor Volume (mm3)</th>\n",
       "    </tr>\n",
       "    <tr>\n",
       "      <th>Mouse ID</th>\n",
       "      <th></th>\n",
       "      <th></th>\n",
       "    </tr>\n",
       "  </thead>\n",
       "  <tbody>\n",
       "    <tr>\n",
       "      <th>w150</th>\n",
       "      <td>Capomulin</td>\n",
       "      <td>124.154476</td>\n",
       "    </tr>\n",
       "    <tr>\n",
       "      <th>b447</th>\n",
       "      <td>Ceftamin</td>\n",
       "      <td>45.000000</td>\n",
       "    </tr>\n",
       "    <tr>\n",
       "      <th>h531</th>\n",
       "      <td>Ceftamin</td>\n",
       "      <td>92.784682</td>\n",
       "    </tr>\n",
       "    <tr>\n",
       "      <th>l558</th>\n",
       "      <td>Ceftamin</td>\n",
       "      <td>137.593624</td>\n",
       "    </tr>\n",
       "    <tr>\n",
       "      <th>t573</th>\n",
       "      <td>Ceftamin</td>\n",
       "      <td>45.000000</td>\n",
       "    </tr>\n",
       "    <tr>\n",
       "      <th>u153</th>\n",
       "      <td>Ceftamin</td>\n",
       "      <td>45.000000</td>\n",
       "    </tr>\n",
       "    <tr>\n",
       "      <th>x226</th>\n",
       "      <td>Ceftamin</td>\n",
       "      <td>45.000000</td>\n",
       "    </tr>\n",
       "    <tr>\n",
       "      <th>c326</th>\n",
       "      <td>Infubinol</td>\n",
       "      <td>81.321346</td>\n",
       "    </tr>\n",
       "    <tr>\n",
       "      <th>m756</th>\n",
       "      <td>Infubinol</td>\n",
       "      <td>92.010364</td>\n",
       "    </tr>\n",
       "    <tr>\n",
       "      <th>o813</th>\n",
       "      <td>Infubinol</td>\n",
       "      <td>90.699331</td>\n",
       "    </tr>\n",
       "    <tr>\n",
       "      <th>v339</th>\n",
       "      <td>Infubinol</td>\n",
       "      <td>91.250112</td>\n",
       "    </tr>\n",
       "    <tr>\n",
       "      <th>w678</th>\n",
       "      <td>Ramicane</td>\n",
       "      <td>88.166373</td>\n",
       "    </tr>\n",
       "  </tbody>\n",
       "</table>\n",
       "</div>"
      ],
      "text/plain": [
       "         Drug Regimen  Tumor Volume (mm3)\n",
       "Mouse ID                                 \n",
       "w150        Capomulin          124.154476\n",
       "b447         Ceftamin           45.000000\n",
       "h531         Ceftamin           92.784682\n",
       "l558         Ceftamin          137.593624\n",
       "t573         Ceftamin           45.000000\n",
       "u153         Ceftamin           45.000000\n",
       "x226         Ceftamin           45.000000\n",
       "c326        Infubinol           81.321346\n",
       "m756        Infubinol           92.010364\n",
       "o813        Infubinol           90.699331\n",
       "v339        Infubinol           91.250112\n",
       "w678         Ramicane           88.166373"
      ]
     },
     "execution_count": 11,
     "metadata": {},
     "output_type": "execute_result"
    }
   ],
   "source": [
    "# construct outlier dataframe to identify outliers\n",
    "pt_reset_index = tumor_vol_df.reset_index()\n",
    "outlier_IDs_df = pt_reset_index.loc[(pt_reset_index[\"Tumor Volume (mm3)\"] < lower_bound) | (pt_reset_index[\"Tumor Volume (mm3)\"] > upper_bound)].set_index(\"Mouse ID\")\n",
    "outlier_IDs_df\n"
   ]
  },
  {
   "cell_type": "code",
   "execution_count": 12,
   "metadata": {},
   "outputs": [
    {
     "data": {
      "image/png": "[encoded data removed]",
      "text/plain": [
       "<Figure size 432x288 with 1 Axes>"
      ]
     },
     "metadata": {
      "needs_background": "light"
     },
     "output_type": "display_data"
    }
   ],
   "source": [
    "# box and whisker plot for outliers in promising treatments\n",
    "fig1, ax1 = plt.subplots()\n",
    "ax1.set_title('Tumor Volume mm3')\n",
    "ax1.set_ylabel('Mice ID')\n",
    "plt.boxplot(tumor_vol_df[\"Tumor Volume (mm3)\"], showmeans=True)\n",
    "plt.grid()\n",
    "plt.show()"
   ]
  },
  {
   "cell_type": "code",
   "execution_count": 13,
   "metadata": {},
   "outputs": [
    {
     "name": "stderr",
     "output_type": "stream",
     "text": [
      "No artists with labels found to put in legend.  Note that artists whose label start with an underscore are ignored when legend() is called with no argument.\n"
     ]
    },
    {
     "data": {
      "text/plain": [
       "Text(0, 0.5, 'Tumor Volume (mm3)')"
      ]
     },
     "execution_count": 13,
     "metadata": {},
     "output_type": "execute_result"
    },
    {
     "data": {
      "image/png": "[encoded data removed]",
      "text/plain": [
       "<Figure size 432x288 with 1 Axes>"
      ]
     },
     "metadata": {
      "needs_background": "light"
     },
     "output_type": "display_data"
    }
   ],
   "source": [
    "# generate line plot of tumor volume vs time point\n",
    "id_cap_treatment = mouse_df.loc[mouse_df[\"Drug Regimen\"] == \"Capomulin\", [\"Drug Regimen\", \"Mouse ID\", \"Tumor Volume (mm3)\", \"Timepoint\"]]\n",
    "\n",
    "ran_id = id_cap_treatment.loc[id_cap_treatment[\"Mouse ID\"] == \"s185\", [\"Mouse ID\", \"Tumor Volume (mm3)\", \"Timepoint\"]].set_index(\"Mouse ID\")\n",
    "\n",
    "plt.plot(ran_id[\"Timepoint\"], ran_id[\"Tumor Volume (mm3)\"], color=\"blue\")\n",
    "plt.legend(loc=\"best\")\n",
    "plt.title(\"s185: Time Point vs. Tumor Volume (mm3)\")\n",
    "plt.yticks(np.arange(min(ran_id[\"Tumor Volume (mm3)\"]) -3.34, max(ran_id[\"Tumor Volume (mm3)\"]) + 1.5, 2.0))\n",
    "plt.xticks(np.arange(min(ran_id[\"Timepoint\"]), max(ran_id[\"Timepoint\"]) + 1, 5.0))\n",
    "plt.xlabel(\"Time Point\")\n",
    "plt.ylabel(\"Tumor Volume (mm3)\")"
   ]
  },
  {
   "cell_type": "code",
   "execution_count": 14,
   "metadata": {},
   "outputs": [
    {
     "data": {
      "text/plain": [
       "<AxesSubplot:xlabel='Weight (g)', ylabel='Tumor Volume (mm3)'>"
      ]
     },
     "execution_count": 14,
     "metadata": {},
     "output_type": "execute_result"
    },
    {
     "data": {
      "image/png": "[encoded data removed]",
      "text/plain": [
       "<Figure size 576x576 with 1 Axes>"
      ]
     },
     "metadata": {
      "needs_background": "light"
     },
     "output_type": "display_data"
    }
   ],
   "source": [
    "# generate scatter plot of mouse weight vs. average tumor volume for the Capomulin treatment regimen\n",
    "\n",
    "capomulin_df = mouse_df.loc[mouse_df[\"Drug Regimen\"] == \"Capomulin\", [\"Mouse ID\", \"Tumor Volume (mm3)\", \"Weight (g)\"]]\n",
    "cap_group = capomulin_df.groupby([\"Mouse ID\", \"Weight (g)\"])\n",
    "cap_group_ave = cap_group[\"Tumor Volume (mm3)\"].mean()\n",
    "\n",
    "ave_vol_vs_weight_df = pd.DataFrame(cap_group_ave).reset_index()\n",
    "ave_vol_vs_weight_df.set_index(\"Mouse ID\")\n",
    "\n",
    "ave_vol_vs_weight_df.plot(kind=\"scatter\", x=\"Weight (g)\", y=\"Tumor Volume (mm3)\", grid=True, figsize=(8,8))\n"
   ]
  }
 ],
 "metadata": {
  "interpreter": {
   "hash": "efc213f78c2332ade3cb52c89bda8c080bc1ae1c359626bac6e5e7c902af6ee9"
  },
  "kernelspec": {
   "display_name": "Python 3.7.13 ('bootcamp')",
   "language": "python",
   "name": "python3"
  },
  "language_info": {
   "codemirror_mode": {
    "name": "ipython",
    "version": 3
   },
   "file_extension": ".py",
   "mimetype": "text/x-python",
   "name": "python",
   "nbconvert_exporter": "python",
   "pygments_lexer": "ipython3",
   "version": "3.7.13"
  },
  "orig_nbformat": 4
 },
 "nbformat": 4,
 "nbformat_minor": 2
}
