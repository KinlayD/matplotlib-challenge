{
 "cells": [
  {
   "cell_type": "code",
   "execution_count": 1,
   "metadata": {},
   "outputs": [],
   "source": [
    "# Dependencies and Setup\n",
    "import matplotlib.pyplot as plt\n",
    "import pandas as pd\n",
    "import scipy.stats as st\n",
    "import numpy as np\n",
    "\n",
    "# file path\n",
    "mouse_metadata_path = \"resources/Mouse_metadata.csv\"\n",
    "study_results_path = \"resources/Study_results.csv\"\n",
    "\n",
    "# create dataframes\n",
    "mouse_metadata = pd.read_csv(mouse_metadata_path)\n",
    "study_results = pd.read_csv(study_results_path)\n"
   ]
  },
  {
   "cell_type": "code",
   "execution_count": 2,
   "metadata": {},
   "outputs": [
    {
     "name": "stdout",
     "output_type": "stream",
     "text": [
      "g989    13\n",
      "k403    10\n",
      "j365    10\n",
      "j984    10\n",
      "k210    10\n",
      "        ..\n",
      "v199     1\n",
      "t573     1\n",
      "f932     1\n",
      "b447     1\n",
      "u153     1\n",
      "Name: Mouse ID, Length: 249, dtype: int64\n",
      "1893\n"
     ]
    }
   ],
   "source": [
    "# merge dataframes\n",
    "mouse_raw_df = pd.merge(mouse_metadata, study_results, on=\"Mouse ID\", how=\"outer\")\n",
    "\n",
    "# check counts\n",
    "print(mouse_raw_df[\"Mouse ID\"].value_counts())\n",
    "print(len(mouse_raw_df[\"Mouse ID\"]))\n"
   ]
  },
  {
   "cell_type": "code",
   "execution_count": 3,
   "metadata": {},
   "outputs": [
    {
     "name": "stdout",
     "output_type": "stream",
     "text": [
      "g989    12\n",
      "k403    10\n",
      "j365    10\n",
      "j984    10\n",
      "k210    10\n",
      "        ..\n",
      "v199     1\n",
      "t573     1\n",
      "f932     1\n",
      "b447     1\n",
      "u153     1\n",
      "Name: Mouse ID, Length: 249, dtype: int64\n",
      "1892\n"
     ]
    }
   ],
   "source": [
    "# drop duplicates and store as clean df\n",
    "mouse_df = pd.merge(mouse_metadata, study_results, on=\"Mouse ID\", how=\"outer\")\n",
    "mouse_df.drop_duplicates(subset=[\"Mouse ID\", \"Timepoint\", \"Tumor Volume (mm3)\", \"Metastatic Sites\"], inplace=True, ignore_index=True)\n",
    "mouse_df\n",
    "\n",
    "# check counts from clean df\n",
    "print(mouse_df[\"Mouse ID\"].value_counts())\n",
    "print(len(mouse_df[\"Mouse ID\"]))"
   ]
  },
  {
   "cell_type": "code",
   "execution_count": 6,
   "metadata": {},
   "outputs": [
    {
     "data": {
      "text/plain": [
       "<AxesSubplot:xlabel='Drug Regimen'>"
      ]
     },
     "execution_count": 6,
     "metadata": {},
     "output_type": "execute_result"
    },
    {
     "data": {
      "image/png": "[encoded data removed]",
      "text/plain": [
       "<Figure size 432x288 with 1 Axes>"
      ]
     },
     "metadata": {
      "needs_background": "light"
     },
     "output_type": "display_data"
    }
   ],
   "source": [
    "## use Pandas DataFrame.plot() to generate a bar plot \n",
    "\n",
    "drug_df = mouse_df[[\"Drug Regimen\", \"Mouse ID\"]].set_index(\"Drug Regimen\")\n",
    "d_group = drug_df.groupby([\"Drug Regimen\"])\n",
    "drug_regimen_by_count = pd.DataFrame(d_group[\"Mouse ID\"].count())\n",
    "drug_regimen_by_count\n",
    "\n",
    "drug_regimen_by_count.plot(kind=\"bar\", stacked=True)"
   ]
  },
  {
   "cell_type": "code",
   "execution_count": 7,
   "metadata": {},
   "outputs": [
    {
     "data": {
      "image/png": "[encoded data removed]",
      "text/plain": [
       "<Figure size 432x288 with 1 Axes>"
      ]
     },
     "metadata": {
      "needs_background": "light"
     },
     "output_type": "display_data"
    }
   ],
   "source": [
    "## use .pyplot to chart a bar chart\n",
    "\n",
    "d_df = mouse_df[[\"Drug Regimen\", \"Mouse ID\"]]\n",
    "group_df = mouse_df.groupby([\"Drug Regimen\"])\n",
    "drug_regimen_series = group_df[\"Mouse ID\"].count()\n",
    "\n",
    "drug_regimen_df = pd.DataFrame(drug_regimen_series).reset_index()\n",
    "drug_regimen_df\n",
    "\n",
    "x_axis = np.arange(len(drug_regimen_series))\n",
    "tick_locations = [value for value in x_axis]\n",
    "\n",
    "plt.bar(x_axis, drug_regimen_df[\"Mouse ID\"], color='r', alpha=0.5, align='center')\n",
    "plt.xticks(tick_locations, drug_regimen_df[\"Drug Regimen\"], rotation=\"vertical\")\n",
    "plt.xlim(-0.75, len(drug_regimen_df))\n",
    "plt.tight_layout()"
   ]
  },
  {
   "cell_type": "code",
   "execution_count": null,
   "metadata": {},
   "outputs": [],
   "source": []
  }
 ],
 "metadata": {
  "interpreter": {
   "hash": "efc213f78c2332ade3cb52c89bda8c080bc1ae1c359626bac6e5e7c902af6ee9"
  },
  "kernelspec": {
   "display_name": "Python 3.7.13 ('bootcamp')",
   "language": "python",
   "name": "python3"
  },
  "language_info": {
   "codemirror_mode": {
    "name": "ipython",
    "version": 3
   },
   "file_extension": ".py",
   "mimetype": "text/x-python",
   "name": "python",
   "nbconvert_exporter": "python",
   "pygments_lexer": "ipython3",
   "version": "3.7.13"
  },
  "orig_nbformat": 4
 },
 "nbformat": 4,
 "nbformat_minor": 2
}
